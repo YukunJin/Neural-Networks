{
 "cells": [
  {
   "cell_type": "code",
   "execution_count": 1,
   "metadata": {
    "collapsed": false
   },
   "outputs": [],
   "source": [
    "from fnn import *"
   ]
  },
  {
   "cell_type": "markdown",
   "metadata": {},
   "source": [
    "### Test the output of a single Layer"
   ]
  },
  {
   "cell_type": "markdown",
   "metadata": {},
   "source": [
    " __Layer 0__<br>\n",
    "input size = 2<br>\n",
    "output size = 1<br>\n",
    "input = [2,3] <br>\n",
    "Weights = [0 1]<br>\n",
    "Bias = 4<br>\n",
    "Activation Function = Sigmoid<br>\n",
    "expected out = sigmoid(7) = 0.999088948806<br>\n",
    "\n",
    "Final output = 0.999088948806"
   ]
  },
  {
   "cell_type": "code",
   "execution_count": 2,
   "metadata": {
    "collapsed": false,
    "scrolled": true
   },
   "outputs": [
    {
     "name": "stdout",
     "output_type": "stream",
     "text": [
      "3\n",
      "[0 1]\n",
      "4\n",
      "0.999088948806\n",
      "0.999088948806\n"
     ]
    }
   ],
   "source": [
    "l = Layers(2,1,0)\n",
    "w = np.array([0,1])\n",
    "b = 4\n",
    "x = np.array([2,3])\n",
    "l.setWeight(w)\n",
    "l.setBias(b)\n",
    "print(w.T @ x)\n",
    "print(l.Weights)\n",
    "print(l.bias)\n",
    "print(l.evaluate(x,sigmoid))\n",
    "print(sigmoid(7))"
   ]
  },
  {
   "cell_type": "markdown",
   "metadata": {},
   "source": [
    "### Test the output of a 2-Layer FNN\n",
    "Activation Function = Sigmoid <br>\n",
    "__Layer 0__<br>\n",
    "input size = 2<br>\n",
    "output size = 2<br>\n",
    "input = [2,3]<br>\n",
    "weight = [[0,1],[1,0]]<br>\n",
    "bias = [4,0]<br>\n",
    "z = sigmoid([7,2])<br>\n",
    "<br>\n",
    "__Layer 1__ <br>\n",
    "input size = 2<br>\n",
    "output size = 1<br>\n",
    "input = sigmoid([7,2])<br>\n",
    "weight = [0,1]<br>\n",
    "bias = 0<br>\n",
    "expected = sigmoid(sigmoid(2)) = 0.706987368<br>\n",
    "\n",
    "Final output = 0.706987368<br>"
   ]
  },
  {
   "cell_type": "code",
   "execution_count": 13,
   "metadata": {
    "collapsed": false
   },
   "outputs": [
    {
     "name": "stdout",
     "output_type": "stream",
     "text": [
      "0.706987368\n",
      "0.706987368\n"
     ]
    }
   ],
   "source": [
    "input_size = 2\n",
    "x = np.array([2,3])\n",
    "w_1 = np.array([[0,1],[1,0]])\n",
    "b_1 = np.array([4,0])\n",
    "w_2 = np.array([0,1])\n",
    "b_2 = 0\n",
    "test_FNN = FNN(input_size)\n",
    "test_FNN.addLayer(2,2)\n",
    "test_FNN.addLayer(2,1)\n",
    "test_FNN.layer_list[0].setWeight(w_1)\n",
    "test_FNN.layer_list[0].setBias(b_1)\n",
    "test_FNN.layer_list[1].setWeight(w_2)\n",
    "test_FNN.layer_list[1].setBias(b_2)\n",
    "print(sigmoid(sigmoid(2)))\n",
    "print(test_FNN.feed(x,sigmoid))\n",
    "del test_FNN"
   ]
  },
  {
   "cell_type": "markdown",
   "metadata": {},
   "source": [
    "### Test the output of the Quadratic cost function\n",
    "z = [1,0,0,1]<br>\n",
    "z_label = [1,1,0,1]<br>\n",
    "expected = 0.25*((1-1)^2+(1-0)^2+(0-0)^2+(1-1)^2) = 0.25 <25>\n",
    "\n",
    "final output = 0.25"
   ]
  },
  {
   "cell_type": "code",
   "execution_count": 14,
   "metadata": {
    "collapsed": false
   },
   "outputs": [
    {
     "data": {
      "text/plain": [
       "0.25"
      ]
     },
     "execution_count": 14,
     "metadata": {},
     "output_type": "execute_result"
    }
   ],
   "source": [
    "from util import *\n",
    "z = np.array([1,0,0,1])\n",
    "z_label = np.array([1,1,0,1])\n",
    "cost_quadratic(z,z_label)"
   ]
  },
  {
   "cell_type": "markdown",
   "metadata": {},
   "source": [
    "### Visualize the cost function"
   ]
  },
  {
   "cell_type": "code",
   "execution_count": 7,
   "metadata": {
    "collapsed": false
   },
   "outputs": [
    {
     "data": {
      "image/png": "[encoded data removed]",
      "text/plain": [
       "<Figure size 432x288 with 1 Axes>"
      ]
     },
     "metadata": {},
     "output_type": "display_data"
    }
   ],
   "source": [
    "import matplotlib.pyplot as plt\n",
    "x = np.array([[-2,-1],[25,6],[17,4],[-15,-6]])\n",
    "y = np.array([1,0,0,1])\n",
    "alpha = 0.1\n",
    "FNN_2 = FNN(2)\n",
    "FNN_2.addLayer(2,2)\n",
    "FNN_2.addLayer(2,1)\n",
    "cost = FNN_2.train(alpha,x,y,dc_dz = dquadratic_dz,batches = 4)\n",
    "FNN_2.feed(np.array([-8,2]),sigmoid)\n",
    "plt.plot(np.arange(len(cost)),cost)\n",
    "plt.show()"
   ]
  },
  {
   "cell_type": "markdown",
   "metadata": {},
   "source": [
    "### Check the the results of back propagation argee with the finite difference"
   ]
  },
  {
   "cell_type": "code",
   "execution_count": null,
   "metadata": {
    "collapsed": true
   },
   "outputs": [],
   "source": [
    "#### Back propagation\n",
    "def back_propagation(fnn,x,y):\n",
    "    fnn.feed(x,sigmoid)\n",
    "    delta_list = {}\n",
    "    weights_gradients = []\n",
    "    bias_gradients = []\n",
    "    for i in range(len(fnn.layer_list)-1,-1,-1):\n",
    "        if i == len(fnn.layer_list)-1:\n",
    "            delta = dquadratic_dz(fnn.layer_list[i].z,y) @ d_sigmoid(fnn.layer_list[i].y)\n",
    "            delta_list[i] = delta\n",
    "        else:\n",
    "            delta = (delta_list[i+1] * fnn.layer_list[i+1].Weights.T) @ d_sigmoid(fnn.layer_list[i].y)\n",
    "            delta_list[i] = delta\n",
    "        weights_gradient = np.outer(fnn.layer_list[i].x,delta)\n",
    "        bias_gradient = delta\n",
    "        weights_gradients.append(weights_gradient)\n",
    "        bias_gradients.append(float(bias_gradient))\n",
    "    return weights_gradients,bias_gradients"
   ]
  },
  {
   "cell_type": "code",
   "execution_count": 20,
   "metadata": {
    "collapsed": false
   },
   "outputs": [],
   "source": [
    "from fnn import *"
   ]
  },
  {
   "cell_type": "code",
   "execution_count": 23,
   "metadata": {
    "collapsed": false
   },
   "outputs": [],
   "source": [
    "url = 'Ising/'\n",
    "file = open(url+'train_data.txt').readlines()\n",
    "train_dataset = np.zeros([10000,100])\n",
    "i = 0 \n",
    "for line in file:\n",
    "    line = line.split()\n",
    "    for j in range(len(line)):\n",
    "        train_dataset[i][j] = int(line[j])\n",
    "    i+=1\n",
    "file = open(url+'train_label.txt').readlines()\n",
    "train_labelset = np.zeros([10000,1])\n",
    "i = 0\n",
    "for line in file:\n",
    "    line = line.split()\n",
    "    for j in range(len(line)):\n",
    "        train_labelset[i][j] = int(line[j])\n",
    "    i+=1"
   ]
  },
  {
   "cell_type": "code",
   "execution_count": 40,
   "metadata": {
    "collapsed": false
   },
   "outputs": [],
   "source": [
    "Ising_FNN = FNN(100)\n",
    "Ising_FNN.addLayer(100,100)\n",
    "Ising_FNN.addLayer(100,1)\n",
    "w = np.zeros([100,1])\n",
    "for i in range(len(w)):\n",
    "    w[i] = np.random.uniform(-0.01,0.01)\n",
    "Ising_FNN.layer_list[0].setWeight(w)"
   ]
  },
  {
   "cell_type": "code",
   "execution_count": 41,
   "metadata": {
    "collapsed": true
   },
   "outputs": [],
   "source": [
    "alpha = 0.05"
   ]
  },
  {
   "cell_type": "code",
   "execution_count": 46,
   "metadata": {
    "collapsed": false
   },
   "outputs": [],
   "source": [
    "Ising_FNN.train(alpha,train_dataset,train_labelset,dc_dz = dquadratic_dz , batches = 100,epoches = 400)"
   ]
  },
  {
   "cell_type": "code",
   "execution_count": 27,
   "metadata": {
    "collapsed": false
   },
   "outputs": [],
   "source": [
    "url = 'Ising/'\n",
    "file = open(url+'test_data.txt').readlines()\n",
    "test_dataset = np.zeros([10000,100])\n",
    "i = 0 \n",
    "for line in file:\n",
    "    line = line.split()\n",
    "    for j in range(len(line)):\n",
    "        test_dataset[i][j] = int(line[j])\n",
    "    i+=1\n",
    "file = open(url+'test_label.txt').readlines()\n",
    "test_labelset = np.zeros([10000,1])\n",
    "i = 0\n",
    "for line in file:\n",
    "    line = line.split()\n",
    "    for j in range(len(line)):\n",
    "        test_labelset[i][j] = int(line[j])\n",
    "    i+=1"
   ]
  },
  {
   "cell_type": "code",
   "execution_count": 47,
   "metadata": {
    "collapsed": false
   },
   "outputs": [
    {
     "name": "stdout",
     "output_type": "stream",
     "text": [
      "Counter({'match': 9023, 'fail': 977})\n",
      "0.9023\n",
      "10000\n"
     ]
    }
   ],
   "source": [
    "import collections\n",
    "accuracy = collections.Counter()\n",
    "accuracy['match'] = 0\n",
    "accuracy['fail'] = 0\n",
    "predict_z = []\n",
    "for  test_data,test_label in zip(test_dataset,test_labelset):\n",
    "    predict = Ising_FNN.predict(test_data,sigmoid)\n",
    "    predict_z.append(predict)\n",
    "    if(abs(test_label-predict) < 0.5):\n",
    "        accuracy['match'] += 1\n",
    "    else:\n",
    "        accuracy['fail'] += 1\n",
    "\n",
    "print(accuracy)\n",
    "print(accuracy['match']/len(test_dataset))\n",
    "print(len(predict_z))"
   ]
  },
  {
   "cell_type": "code",
   "execution_count": 32,
   "metadata": {
    "collapsed": false
   },
   "outputs": [],
   "source": [
    "file = open(url+'test_betaJ.txt').readlines()\n",
    "test_betaJ = []\n",
    "i = 0\n",
    "for line in file:\n",
    "    line = line.split()\n",
    "    for j in range(len(line)):\n",
    "        test_betaJ.append(float(line[j]))\n",
    "    i+=1"
   ]
  },
  {
   "cell_type": "code",
   "execution_count": 33,
   "metadata": {
    "collapsed": false
   },
   "outputs": [
    {
     "name": "stdout",
     "output_type": "stream",
     "text": [
      "10000\n"
     ]
    },
    {
     "data": {
      "image/png": "[encoded data removed]",
      "text/plain": [
       "<Figure size 432x288 with 1 Axes>"
      ]
     },
     "metadata": {},
     "output_type": "display_data"
    }
   ],
   "source": [
    "import matplotlib.pyplot as plt\n",
    "import statistics\n",
    "mapping = {}\n",
    "print(len(test_betaJ))\n",
    "for betaJ,predict in zip(list(test_betaJ),list(predict_z)):\n",
    "    if betaJ not in mapping:\n",
    "        mapping[betaJ] = [float(predict)]\n",
    "    mapping[betaJ].append(float(predict))\n",
    "avg = []\n",
    "for betaJ in mapping.keys():\n",
    "    avg.append(statistics.mean(mapping[betaJ]))\n",
    "plt.scatter(mapping.keys(),avg) \n",
    "plt.show()"
   ]
  },
  {
   "cell_type": "code",
   "execution_count": 89,
   "metadata": {
    "collapsed": false
   },
   "outputs": [],
   "source": [
    "def quadratic(z,answer):\n",
    "    return (answer-z)**2\n",
    "def c_w(layer,w):\n",
    "    return quadratic(sigmoid(w.T @ layer.x + layer.bias),1)\n",
    "def c_b(layer,b):\n",
    "    return quadratic(sigmoid(layer.Weights.T @ layer.x + b),1)\n",
    "def finite_diff(fnn,x):\n",
    "    fnn.feed(x,sigmoid)\n",
    "    weights_gradients = []\n",
    "    bias_gradients = []\n",
    "    for i in range(len(fnn.layer_list)-1,-1,-1):\n",
    "        weights_gradient = num_diff(fnn.layer_list[i],fnn.layer_list[i].Weights,c_w)\n",
    "        bias_gradient = num_diff(fnn.layer_list[i],fnn.layer_list[i].bias,c_b)\n",
    "        weights_gradients.append(weights_gradient)\n",
    "        bias_gradients.append(bias_gradient)\n",
    "    return weights_gradients,bias_gradients\n",
    "def num_diff(layer,x,f):\n",
    "    return (f(layer,x+0.0001)-f(layer,x))/0.0001\n",
    "def back_propagation(fnn,x,y):\n",
    "    fnn.feed(x,sigmoid)\n",
    "    delta_list = {}\n",
    "    weights_gradients = []\n",
    "    bias_gradients = []\n",
    "    for i in range(len(fnn.layer_list)-1,-1,-1):\n",
    "        if i == len(fnn.layer_list)-1:\n",
    "            delta = dquadratic_dz(fnn.layer_list[i].z,y) @ d_sigmoid(fnn.layer_list[i].y)\n",
    "            delta_list[i] = delta\n",
    "        else:\n",
    "            delta = (delta_list[i+1] * fnn.layer_list[i+1].Weights.T) @ d_sigmoid(fnn.layer_list[i].y)\n",
    "            delta_list[i] = delta\n",
    "        weights_gradient = delta * fnn.layer_list[i].x\n",
    "        bias_gradient = delta\n",
    "        weights_gradients.append(weights_gradient)\n",
    "        bias_gradients.append(float(bias_gradient))\n",
    "    return weights_gradients,bias_gradients"
   ]
  },
  {
   "cell_type": "code",
   "execution_count": 119,
   "metadata": {
    "collapsed": false
   },
   "outputs": [
    {
     "name": "stdout",
     "output_type": "stream",
     "text": [
      "x:[ 0.5079451  -0.58552575]\n",
      "w_1:[[-0.54305485]\n",
      " [-0.53274412]]\n",
      "w_2:[[ 1.26133022]\n",
      " [-0.70733292]]\n",
      "b_1:[-0.69603728 -0.78960725]\n",
      "b_2:2\n"
     ]
    }
   ],
   "source": [
    "x = np.random.randn(2)\n",
    "y = 1\n",
    "w_1 = np.random.randn(2,1)\n",
    "w_2 = np.random.randn(2,1)\n",
    "b_1 = np.random.randn(2)\n",
    "b_2 = 2\n",
    "print('x:{}'.format(x))\n",
    "print('w_1:{}'.format(w_1))\n",
    "print('w_2:{}'.format(w_2))\n",
    "print('b_1:{}'.format(b_1))\n",
    "print('b_2:{}'.format(b_2))"
   ]
  },
  {
   "cell_type": "code",
   "execution_count": 120,
   "metadata": {
    "collapsed": false
   },
   "outputs": [
    {
     "name": "stdout",
     "output_type": "stream",
     "text": [
      "0.00369505071922\n",
      "[array([-0.00369505])]\n",
      "[-0.0038691980052152014]\n"
     ]
    }
   ],
   "source": [
    "from util import *\n",
    "fnn_test = FNN(2)\n",
    "fnn_test.addLayer(2,1)\n",
    "#fnn_test.addLayer(2,1)\n",
    "fnn_test.layer_list[0].setWeight(w_2)\n",
    "fnn_test.layer_list[0].setBias(b_2)\n",
    "#fnn_test.layer_list[1].setWeight(w_2)\n",
    "#fnn_test.layer_list[1].setBias(b_2)\n",
    "weights_g,bias_g = back_propagation(fnn_test,x,y)\n",
    "print(np.linalg.norm(weights_g[0]))\n",
    "print(weights_g)\n",
    "print(bias_g)\n",
    "del fnn_test"
   ]
  },
  {
   "cell_type": "code",
   "execution_count": 121,
   "metadata": {
    "collapsed": false
   },
   "outputs": [
    {
     "name": "stdout",
     "output_type": "stream",
     "text": [
      "[array([ 0.00030018])]\n",
      "[array([-0.00386884])]\n"
     ]
    }
   ],
   "source": [
    "from util import *\n",
    "fnn_test = FNN(2)\n",
    "fnn_test.addLayer(2,1)\n",
    "#fnn_test.addLayer(2,1)\n",
    "fnn_test.layer_list[0].setWeight(w_2)\n",
    "fnn_test.layer_list[0].setBias(b_2)\n",
    "#fnn_test.layer_list[1].setWeight(w_2)\n",
    "#fnn_test.layer_list[1].setBias(b_2)\n",
    "weights_g,bias_g = finite_diff(fnn_test,x)\n",
    "print(weights_g)\n",
    "print(bias_g)\n"
   ]
  },
  {
   "cell_type": "code",
   "execution_count": 42,
   "metadata": {
    "collapsed": false
   },
   "outputs": [
    {
     "data": {
      "text/plain": [
       "array([ 0.68124297])"
      ]
     },
     "execution_count": 42,
     "metadata": {},
     "output_type": "execute_result"
    }
   ],
   "source": []
  },
  {
   "cell_type": "code",
   "execution_count": 250,
   "metadata": {
    "collapsed": false
   },
   "outputs": [
    {
     "ename": "AttributeError",
     "evalue": "'Add' object has no attribute 'exp'",
     "output_type": "error",
     "traceback": [
      "\u001b[0;31m---------------------------------------------------------------------------\u001b[0m",
      "\u001b[0;31mAttributeError\u001b[0m                            Traceback (most recent call last)",
      "\u001b[0;32m<ipython-input-250-ceaf0e330265>\u001b[0m in \u001b[0;36m<module>\u001b[0;34m()\u001b[0m\n\u001b[0;32m----> 1\u001b[0;31m \u001b[0mweights_gradient\u001b[0m \u001b[0;34m=\u001b[0m \u001b[0mnum_diff\u001b[0m\u001b[0;34m(\u001b[0m\u001b[0mfnn_test\u001b[0m\u001b[0;34m.\u001b[0m\u001b[0mlayer_list\u001b[0m\u001b[0;34m[\u001b[0m\u001b[0;36m1\u001b[0m\u001b[0;34m]\u001b[0m\u001b[0;34m.\u001b[0m\u001b[0mWeights\u001b[0m\u001b[0;34m,\u001b[0m\u001b[0mc_w\u001b[0m\u001b[0;34m)\u001b[0m\u001b[0;34m\u001b[0m\u001b[0m\n\u001b[0m\u001b[1;32m      2\u001b[0m \u001b[0mweights_gradient\u001b[0m\u001b[0;34m\u001b[0m\u001b[0m\n",
      "\u001b[0;32m<ipython-input-246-0e089ccfd2c3>\u001b[0m in \u001b[0;36mnum_diff\u001b[0;34m(x, f)\u001b[0m\n\u001b[1;32m     16\u001b[0m     \u001b[0;32mreturn\u001b[0m \u001b[0mweights_gradients\u001b[0m\u001b[0;34m,\u001b[0m\u001b[0mbias_gradients\u001b[0m\u001b[0;34m\u001b[0m\u001b[0m\n\u001b[1;32m     17\u001b[0m \u001b[0;32mdef\u001b[0m \u001b[0mnum_diff\u001b[0m\u001b[0;34m(\u001b[0m\u001b[0mx\u001b[0m\u001b[0;34m,\u001b[0m\u001b[0mf\u001b[0m\u001b[0;34m)\u001b[0m\u001b[0;34m:\u001b[0m\u001b[0;34m\u001b[0m\u001b[0m\n\u001b[0;32m---> 18\u001b[0;31m     \u001b[0;32mreturn\u001b[0m \u001b[0;34m(\u001b[0m\u001b[0mf\u001b[0m\u001b[0;34m(\u001b[0m\u001b[0mx\u001b[0m\u001b[0;34m+\u001b[0m\u001b[0;36m0.001\u001b[0m\u001b[0;34m)\u001b[0m\u001b[0;34m-\u001b[0m\u001b[0mf\u001b[0m\u001b[0;34m(\u001b[0m\u001b[0mx\u001b[0m\u001b[0;34m)\u001b[0m\u001b[0;34m)\u001b[0m\u001b[0;34m/\u001b[0m\u001b[0;36m0.001\u001b[0m\u001b[0;34m\u001b[0m\u001b[0m\n\u001b[0m\u001b[1;32m     19\u001b[0m \u001b[0;32mdef\u001b[0m \u001b[0mback_propagation\u001b[0m\u001b[0;34m(\u001b[0m\u001b[0mfnn\u001b[0m\u001b[0;34m,\u001b[0m\u001b[0mx\u001b[0m\u001b[0;34m,\u001b[0m\u001b[0my\u001b[0m\u001b[0;34m)\u001b[0m\u001b[0;34m:\u001b[0m\u001b[0;34m\u001b[0m\u001b[0m\n\u001b[1;32m     20\u001b[0m     \u001b[0mfnn\u001b[0m\u001b[0;34m.\u001b[0m\u001b[0mfeed\u001b[0m\u001b[0;34m(\u001b[0m\u001b[0mx\u001b[0m\u001b[0;34m,\u001b[0m\u001b[0msigmoid\u001b[0m\u001b[0;34m)\u001b[0m\u001b[0;34m\u001b[0m\u001b[0m\n",
      "\u001b[0;32m<ipython-input-246-0e089ccfd2c3>\u001b[0m in \u001b[0;36mc_w\u001b[0;34m(w)\u001b[0m\n\u001b[1;32m      2\u001b[0m     \u001b[0;32mreturn\u001b[0m \u001b[0;34m(\u001b[0m\u001b[0manswer\u001b[0m\u001b[0;34m-\u001b[0m\u001b[0mz\u001b[0m\u001b[0;34m)\u001b[0m\u001b[0;34m**\u001b[0m\u001b[0;36m2\u001b[0m\u001b[0;34m\u001b[0m\u001b[0m\n\u001b[1;32m      3\u001b[0m \u001b[0;32mdef\u001b[0m \u001b[0mc_w\u001b[0m\u001b[0;34m(\u001b[0m\u001b[0mw\u001b[0m\u001b[0;34m)\u001b[0m\u001b[0;34m:\u001b[0m\u001b[0;34m\u001b[0m\u001b[0m\n\u001b[0;32m----> 4\u001b[0;31m     \u001b[0;32mreturn\u001b[0m \u001b[0mquadratic\u001b[0m\u001b[0;34m(\u001b[0m\u001b[0msigmoid\u001b[0m\u001b[0;34m(\u001b[0m\u001b[0mw\u001b[0m \u001b[0;34m@\u001b[0m \u001b[0mx\u001b[0m \u001b[0;34m+\u001b[0m \u001b[0mb\u001b[0m\u001b[0;34m)\u001b[0m\u001b[0;34m,\u001b[0m\u001b[0;36m1\u001b[0m\u001b[0;34m)\u001b[0m\u001b[0;34m\u001b[0m\u001b[0m\n\u001b[0m\u001b[1;32m      5\u001b[0m \u001b[0;32mdef\u001b[0m \u001b[0mc_b\u001b[0m\u001b[0;34m(\u001b[0m\u001b[0mb\u001b[0m\u001b[0;34m)\u001b[0m\u001b[0;34m:\u001b[0m\u001b[0;34m\u001b[0m\u001b[0m\n\u001b[1;32m      6\u001b[0m     \u001b[0;32mreturn\u001b[0m \u001b[0mquadratic\u001b[0m\u001b[0;34m(\u001b[0m\u001b[0msigmoid\u001b[0m\u001b[0;34m(\u001b[0m\u001b[0mw\u001b[0m \u001b[0;34m@\u001b[0m \u001b[0mx\u001b[0m \u001b[0;34m+\u001b[0m \u001b[0mb\u001b[0m\u001b[0;34m)\u001b[0m\u001b[0;34m,\u001b[0m\u001b[0;36m1\u001b[0m\u001b[0;34m)\u001b[0m\u001b[0;34m\u001b[0m\u001b[0m\n",
      "\u001b[0;32m/Users/yukunjin/Desktop/PHYS498/p3/FNN/util.py\u001b[0m in \u001b[0;36msigmoid\u001b[0;34m(x)\u001b[0m\n\u001b[1;32m      1\u001b[0m \u001b[0;32mimport\u001b[0m \u001b[0mnumpy\u001b[0m \u001b[0;32mas\u001b[0m \u001b[0mnp\u001b[0m\u001b[0;34m\u001b[0m\u001b[0m\n\u001b[1;32m      2\u001b[0m \u001b[0;32mdef\u001b[0m \u001b[0msigmoid\u001b[0m\u001b[0;34m(\u001b[0m\u001b[0mx\u001b[0m\u001b[0;34m)\u001b[0m\u001b[0;34m:\u001b[0m\u001b[0;34m\u001b[0m\u001b[0m\n\u001b[0;32m----> 3\u001b[0;31m     \u001b[0;32mreturn\u001b[0m \u001b[0;36m1\u001b[0m\u001b[0;34m/\u001b[0m\u001b[0;34m(\u001b[0m\u001b[0;36m1\u001b[0m\u001b[0;34m+\u001b[0m\u001b[0mnp\u001b[0m\u001b[0;34m.\u001b[0m\u001b[0mexp\u001b[0m\u001b[0;34m(\u001b[0m\u001b[0;34m-\u001b[0m\u001b[0mx\u001b[0m\u001b[0;34m)\u001b[0m\u001b[0;34m)\u001b[0m\u001b[0;34m\u001b[0m\u001b[0m\n\u001b[0m\u001b[1;32m      4\u001b[0m \u001b[0;34m\u001b[0m\u001b[0m\n\u001b[1;32m      5\u001b[0m \u001b[0;32mdef\u001b[0m \u001b[0md_sigmoid\u001b[0m\u001b[0;34m(\u001b[0m\u001b[0mx\u001b[0m\u001b[0;34m)\u001b[0m\u001b[0;34m:\u001b[0m\u001b[0;34m\u001b[0m\u001b[0m\n",
      "\u001b[0;31mAttributeError\u001b[0m: 'Add' object has no attribute 'exp'"
     ]
    }
   ],
   "source": []
  },
  {
   "cell_type": "code",
   "execution_count": 90,
   "metadata": {
    "collapsed": false
   },
   "outputs": [
    {
     "data": {
      "text/plain": [
       "array([ 0.76852478,  0.9836975 ])"
      ]
     },
     "execution_count": 90,
     "metadata": {},
     "output_type": "execute_result"
    }
   ],
   "source": [
    "from util import *\n",
    "l = Layers(2,2,0)\n",
    "w = np.array([[-1,1],[-2,3]],dtype = 'float')\n",
    "b = np.array([2,3])\n",
    "x = np.array([0.2,0.3])\n",
    "y = np.array([0,1])\n",
    "l.setWeight(w)\n",
    "l.setBias(b)\n",
    "l.evaluate(x,sigmoid)"
   ]
  },
  {
   "cell_type": "code",
   "execution_count": 91,
   "metadata": {
    "collapsed": false
   },
   "outputs": [
    {
     "data": {
      "text/plain": [
       "array([ 0.27301281, -0.00051781])"
      ]
     },
     "execution_count": 91,
     "metadata": {},
     "output_type": "execute_result"
    }
   ],
   "source": [
    "(quadratic(sigmoid(w.T @ x + (b+0.01)),y) - quadratic(sigmoid(w.T @x + b),y))/0.01"
   ]
  },
  {
   "cell_type": "code",
   "execution_count": 96,
   "metadata": {
    "collapsed": false
   },
   "outputs": [
    {
     "name": "stdout",
     "output_type": "stream",
     "text": [
      "[[ 0.05468635 -0.00010457]\n",
      " [ 0.0820294  -0.00015686]]\n"
     ]
    }
   ],
   "source": [
    "weight_gradient = []\n",
    "for i in range(len(w)):\n",
    "    preturbed_w = w.copy()\n",
    "    preturbed_w[i] += 0.0001\n",
    "    weight_gradient.append((quadratic(sigmoid((preturbed_w.T @ x + b)),y) - quadratic(sigmoid(w.T @ x + b),y))/0.0001)\n",
    "print(np.array(weight_gradient))"
   ]
  },
  {
   "cell_type": "code",
   "execution_count": 95,
   "metadata": {
    "collapsed": false
   },
   "outputs": [
    {
     "name": "stdout",
     "output_type": "stream",
     "text": [
      "[ 0.27343257 -0.00052288]\n"
     ]
    },
    {
     "data": {
      "text/plain": [
       "array([[ 0.05468651, -0.00010458],\n",
       "       [ 0.08202977, -0.00015686]])"
      ]
     },
     "execution_count": 95,
     "metadata": {},
     "output_type": "execute_result"
    }
   ],
   "source": [
    "delta = dquadratic_dz(l.z,y) * d_sigmoid(l.y)\n",
    "print(delta)\n",
    "np.outer(x,delta)"
   ]
  },
  {
   "cell_type": "code",
   "execution_count": 187,
   "metadata": {
    "collapsed": false
   },
   "outputs": [
    {
     "data": {
      "text/plain": [
       "array([1, 1])"
      ]
     },
     "execution_count": 187,
     "metadata": {},
     "output_type": "execute_result"
    }
   ],
   "source": [
    "def back_propagation(layer,y):\n",
    "    delta = dquadratic_dz(layer.z,y) * d_sigmoid(layer.y)\n",
    "    bias_gradients = delta\n",
    "    weight_gradients = np.outer(layer.x,delta)\n",
    "    return weight_gradients,bias_gradients"
   ]
  },
  {
   "cell_type": "code",
   "execution_count": null,
   "metadata": {
    "collapsed": true
   },
   "outputs": [],
   "source": []
  }
 ],
 "metadata": {
  "kernelspec": {
   "display_name": "Python 3",
   "language": "python",
   "name": "python3"
  },
  "language_info": {
   "codemirror_mode": {
    "name": "ipython",
    "version": 3
   },
   "file_extension": ".py",
   "mimetype": "text/x-python",
   "name": "python",
   "nbconvert_exporter": "python",
   "pygments_lexer": "ipython3",
   "version": "3.6.0"
  }
 },
 "nbformat": 4,
 "nbformat_minor": 2
}
