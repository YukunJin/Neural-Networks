{
 "cells": [
  {
   "cell_type": "code",
   "execution_count": 1,
   "metadata": {
    "collapsed": false
   },
   "outputs": [],
   "source": [
    "from fnn import *"
   ]
  },
  {
   "cell_type": "markdown",
   "metadata": {},
   "source": [
    "### Test the output of a single Layer"
   ]
  },
  {
   "cell_type": "markdown",
   "metadata": {},
   "source": [
    " __Layer 0__<br>\n",
    "input size = 2<br>\n",
    "output size = 1<br>\n",
    "input = [2,3] <br>\n",
    "Weights = [0 1]<br>\n",
    "Bias = 4<br>\n",
    "Activation Function = Sigmoid<br>\n",
    "expected out = sigmoid(7) = 0.999088948806<br>\n",
    "\n",
    "Final output = 0.999088948806"
   ]
  },
  {
   "cell_type": "code",
   "execution_count": 2,
   "metadata": {
    "collapsed": false,
    "scrolled": true
   },
   "outputs": [
    {
     "name": "stdout",
     "output_type": "stream",
     "text": [
      "3\n",
      "[0 1]\n",
      "4\n",
      "0.999088948806\n",
      "0.999088948806\n"
     ]
    }
   ],
   "source": [
    "l = Layers(2,1,0)\n",
    "w = np.array([0,1])\n",
    "b = 4\n",
    "x = np.array([2,3])\n",
    "l.setWeight(w)\n",
    "l.setBias(b)\n",
    "print(w.T @ x)\n",
    "print(l.Weights)\n",
    "print(l.bias)\n",
    "print(l.evaluate(x,sigmoid))\n",
    "print(sigmoid(7))"
   ]
  },
  {
   "cell_type": "markdown",
   "metadata": {},
   "source": [
    "### Test the output of a 2-Layer FNN\n",
    "Activation Function = Sigmoid <br>\n",
    "__Layer 0__<br>\n",
    "input size = 2<br>\n",
    "output size = 2<br>\n",
    "input = [2,3]<br>\n",
    "weight = [[0,1],[1,0]]<br>\n",
    "bias = [4,0]<br>\n",
    "z = sigmoid([7,2])<br>\n",
    "<br>\n",
    "__Layer 1__ <br>\n",
    "input size = 2<br>\n",
    "output size = 1<br>\n",
    "input = sigmoid([7,2])<br>\n",
    "weight = [0,1]<br>\n",
    "bias = 0<br>\n",
    "expected = sigmoid(sigmoid(2)) = 0.706987368<br>\n",
    "\n",
    "Final output = 0.706987368<br>"
   ]
  },
  {
   "cell_type": "code",
   "execution_count": 3,
   "metadata": {
    "collapsed": false
   },
   "outputs": [
    {
     "name": "stdout",
     "output_type": "stream",
     "text": [
      "0.706987368\n",
      "0.706987368\n"
     ]
    }
   ],
   "source": [
    "input_size = 2\n",
    "x = np.array([2,3])\n",
    "w_1 = np.array([[0,1],[1,0]])\n",
    "b_1 = np.array([4,0])\n",
    "w_2 = np.array([0,1])\n",
    "b_2 = 0\n",
    "test_FNN = FNN(input_size)\n",
    "test_FNN.addLayer(2,2)\n",
    "test_FNN.addLayer(2,1)\n",
    "test_FNN.layer_list[0].setWeight(w_1)\n",
    "test_FNN.layer_list[0].setBias(b_1)\n",
    "test_FNN.layer_list[1].setWeight(w_2)\n",
    "test_FNN.layer_list[1].setBias(b_2)\n",
    "print(sigmoid(sigmoid(2)))\n",
    "print(test_FNN.feed(x,sigmoid))\n",
    "del test_FNN"
   ]
  },
  {
   "cell_type": "markdown",
   "metadata": {},
   "source": [
    "### Test the output of the Quadratic cost function\n",
    "z = [1,0,0,1]<br>\n",
    "z_label = [1,1,0,1]<br>\n",
    "expected = 0.25*((1-1)^2+(1-0)^2+(0-0)^2+(1-1)^2) = 0.25 <25>\n",
    "\n",
    "final output = 0.25"
   ]
  },
  {
   "cell_type": "code",
   "execution_count": 4,
   "metadata": {
    "collapsed": false
   },
   "outputs": [
    {
     "data": {
      "text/plain": [
       "0.25"
      ]
     },
     "execution_count": 4,
     "metadata": {},
     "output_type": "execute_result"
    }
   ],
   "source": [
    "from util import *\n",
    "z = np.array([1,0,0,1])\n",
    "z_label = np.array([1,1,0,1])\n",
    "cost_quadratic(z,z_label)"
   ]
  },
  {
   "cell_type": "markdown",
   "metadata": {},
   "source": [
    "### Traninig a simple FNN "
   ]
  },
  {
   "cell_type": "code",
   "execution_count": 25,
   "metadata": {
    "collapsed": false
   },
   "outputs": [
    {
     "name": "stdout",
     "output_type": "stream",
     "text": [
      "[array([ 0.96285619]), array([ 0.96384835]), array([ 0.07647689]), array([ 0.05605059]), array([ 0.96389972])]\n",
      "0.433286131126\n"
     ]
    }
   ],
   "source": [
    "import matplotlib.pyplot as plt\n",
    "x = np.array([[-2,-1],[25,6],[17,4],[-15,-6]])\n",
    "y = np.array([1,0,0,1])\n",
    "alpha = 0.1\n",
    "FNN_2 = FNN(2)\n",
    "FNN_2.addLayer(2,2)\n",
    "FNN_2.addLayer(2,1)\n",
    "FNN_2.train(alpha,x,y,dc_dz = dquadratic_dz,batches = 4)\n",
    "test_set = np.array([[-3,-4],[-6,-1],[2,3],[20,0],[-16,2]])\n",
    "test_z = np.array([1,1,0,0,1])\n",
    "predict = []\n",
    "for x in test_set:\n",
    "    predict.append(FNN_2.predict(x,sigmoid))\n",
    "print(predict)\n",
    "print(cost_quadratic(np.array(predict),test_z))"
   ]
  },
  {
   "cell_type": "markdown",
   "metadata": {},
   "source": [
    "### Check the the results of back propagation argee with the finite difference"
   ]
  },
  {
   "cell_type": "code",
   "execution_count": 13,
   "metadata": {
    "collapsed": true
   },
   "outputs": [],
   "source": [
    "def quadratic(z,answer):\n",
    "    return (answer-z)**2\n",
    "#### Back propagation\n",
    "def back_propagation(fnn,x,y):\n",
    "    fnn.feed(x,sigmoid)\n",
    "    delta_list = {}\n",
    "    weights_gradients = []\n",
    "    bias_gradients = []\n",
    "    for i in range(len(fnn.layer_list)-1,-1,-1):\n",
    "        if i == len(fnn.layer_list)-1:\n",
    "            delta = dquadratic_dz(fnn.layer_list[i].z,y) * d_sigmoid(fnn.layer_list[i].y)\n",
    "            delta_list[i] = delta\n",
    "            #delta = dquadratic_dz(l.z,y) * d_sigmoid(l.y)\n",
    "        else:\n",
    "            print('hh')\n",
    "            delta = (delta_list[i+1] * fnn.layer_list[i+1].Weights.T) @ d_sigmoid(fnn.layer_list[i].y)\n",
    "            delta_list[i] = delta\n",
    "        weights_gradient = np.outer(fnn.layer_list[i].x,delta)\n",
    "        bias_gradient = delta\n",
    "        weights_gradients.append(weights_gradient)\n",
    "        bias_gradients.append(bias_gradient)\n",
    "    return weights_gradients,bias_gradients\n",
    "#### Finite Difference\n",
    "def finite_diff(fnn,x,y):\n",
    "    fnn.feed(x,sigmoid)\n",
    "    w = fnn.layer_list[0].Weights\n",
    "    b = fnn.layer_list[0].bias\n",
    "    x = fnn.layer_list[0].x\n",
    "    bias_gradients = (quadratic(sigmoid(w.T @ x + (b+0.0001)),y) - quadratic(sigmoid(w.T @x + b),y))/0.0001\n",
    "    weight_gradient = []\n",
    "    for i in range(len(w)):\n",
    "        preturbed_w = w.copy()\n",
    "        preturbed_w[i] += 0.0001\n",
    "        weight_gradient.append((quadratic(sigmoid((preturbed_w.T @ x + b)),y) - quadratic(sigmoid(w.T @ x + b),y))/0.0001)\n",
    "    return weights_gradients,bias_gradients\n"
   ]
  },
  {
   "cell_type": "code",
   "execution_count": 14,
   "metadata": {
    "collapsed": false
   },
   "outputs": [],
   "source": [
    "### Initialize Weights&Bias\n",
    "w = np.array([[-1,1],[1,-1]],dtype = 'float')\n",
    "b = np.array([2,2])"
   ]
  },
  {
   "cell_type": "code",
   "execution_count": 15,
   "metadata": {
    "collapsed": false
   },
   "outputs": [
    {
     "name": "stdout",
     "output_type": "stream",
     "text": [
      "<--Back Propagation-->\n",
      "Weights gradients:[array([[-0.03469004,  0.25      ],\n",
      "       [ 0.03469004, -0.25      ]])]\n",
      "Bias gradients:[array([ 0.03469004, -0.25      ])]\n",
      "\n",
      "\n",
      "<--Finite Difference-->\n",
      "Weights gradients:[array([[-0.03469004,  0.25      ],\n",
      "       [ 0.03469004, -0.25      ]])]\n",
      "Bias gradients:[ 0.0346884  -0.24999375]\n"
     ]
    }
   ],
   "source": [
    "f1 = FNN(2)\n",
    "f1.addLayer(2,2)\n",
    "f1.layer_list[0].setWeight(w)\n",
    "f1.layer_list[0].setBias(b)\n",
    "x = np.array([-1,1])\n",
    "y = np.array([0,1])\n",
    "weights_gradients,bias_gradients = back_propagation(f1,x,y)\n",
    "del f1\n",
    "print(\"<--Back Propagation-->\")\n",
    "print(\"Weights gradients:{}\".format(weights_gradients))\n",
    "print(\"Bias gradients:{}\".format(bias_gradients))\n",
    "f1 = FNN(2)\n",
    "f1.addLayer(2,2)\n",
    "f1.layer_list[0].setWeight(w)\n",
    "f1.layer_list[0].setBias(b)\n",
    "weights_gradients,bias_gradients = finite_diff(f1,x,y)\n",
    "print('\\n')\n",
    "print(\"<--Finite Difference-->\")\n",
    "print(\"Weights gradients:{}\".format(weights_gradients))\n",
    "print(\"Bias gradients:{}\".format(bias_gradients))\n",
    "del f1"
   ]
  },
  {
   "cell_type": "markdown",
   "metadata": {},
   "source": [
    "# Traning Ising "
   ]
  },
  {
   "cell_type": "code",
   "execution_count": 1,
   "metadata": {
    "collapsed": false
   },
   "outputs": [],
   "source": [
    "from fnn import *"
   ]
  },
  {
   "cell_type": "code",
   "execution_count": 2,
   "metadata": {
    "collapsed": false
   },
   "outputs": [],
   "source": [
    "### Read train_data file\n",
    "url = 'Ising/'\n",
    "file = open(url+'train_data.txt').readlines()\n",
    "train_dataset = np.zeros([10000,100])\n",
    "i = 0 \n",
    "for line in file:\n",
    "    line = line.split()\n",
    "    for j in range(len(line)):\n",
    "        train_dataset[i][j] = int(line[j])\n",
    "    i+=1\n",
    "file = open(url+'train_label.txt').readlines()\n",
    "train_labelset = np.zeros([10000,1])\n",
    "i = 0\n",
    "for line in file:\n",
    "    line = line.split()\n",
    "    for j in range(len(line)):\n",
    "        train_labelset[i][j] = int(line[j])\n",
    "    i+=1"
   ]
  },
  {
   "cell_type": "code",
   "execution_count": null,
   "metadata": {
    "collapsed": true
   },
   "outputs": [],
   "source": [
    "###Read Test file\n",
    "url = 'Ising/'\n",
    "file = open(url+'test_data.txt').readlines()\n",
    "test_dataset = np.zeros([10000,100])\n",
    "i = 0 \n",
    "for line in file:\n",
    "    line = line.split()\n",
    "    for j in range(len(line)):\n",
    "        test_dataset[i][j] = int(line[j])\n",
    "    i+=1\n",
    "file = open(url+'test_label.txt').readlines()\n",
    "test_labelset = np.zeros([10000,1])\n",
    "i = 0\n",
    "for line in file:\n",
    "    line = line.split()\n",
    "    for j in range(len(line)):\n",
    "        test_labelset[i][j] = int(line[j])\n",
    "    i+=1"
   ]
  },
  {
   "cell_type": "code",
   "execution_count": 197,
   "metadata": {
    "collapsed": false
   },
   "outputs": [],
   "source": [
    "###Initialize a 2-Layer Feedforward Network with n1 = 100, m1 = 100 & n2 = 100, m2 =1\n",
    "Ising_FNN = FNN(100)\n",
    "Ising_FNN.addLayer(100,100)\n",
    "Ising_FNN.addLayer(100,1)\n",
    "w_1 = np.zeros([100,100])\n",
    "w_2 = np.zeros([100,1])\n",
    "b_1 = np.zeros(100)\n",
    "b_2 = np.random.uniform(-0.01,0.01)\n",
    "for i in range(100):\n",
    "    w_2[i] = np.random.uniform(-0.01,0.01)\n",
    "    for j in range(100):\n",
    "        w_1[i,j] = np.random.uniform(-0.01,0.01)\n",
    "Ising_FNN.layer_list[0].setWeight(w_1)\n",
    "Ising_FNN.layer_list[0].setBias(b_1)\n",
    "Ising_FNN.layer_list[1].setWeight(w_2)\n",
    "Ising_FNN.layer_list[1].setBias(b_2)\n",
    "alpha = 0.1"
   ]
  },
  {
   "cell_type": "code",
   "execution_count": 198,
   "metadata": {
    "collapsed": false
   },
   "outputs": [],
   "source": [
    "###Train Model\n",
    "Ising_FNN.train(alpha,train_dataset,train_labelset,dc_dz = dcross_dz, batches = 10000,epoches = 100)"
   ]
  },
  {
   "cell_type": "code",
   "execution_count": 199,
   "metadata": {
    "collapsed": false
   },
   "outputs": [
    {
     "name": "stdout",
     "output_type": "stream",
     "text": [
      "Counter({'match': 8698, 'fail': 1302})\n",
      "0.8698\n"
     ]
    }
   ],
   "source": [
    "### Check predictions against test file\n",
    "import collections\n",
    "accuracy = collections.Counter()\n",
    "accuracy['match'] = 0\n",
    "accuracy['fail'] = 0\n",
    "predict_z = []\n",
    "for  test_data,test_label in zip(test_dataset,test_labelset):\n",
    "    predict = Ising_FNN.predict(test_data,sigmoid)\n",
    "    predict_z.append(predict)\n",
    "    if(-0.5 <test_label - predict < 0.5):\n",
    "        accuracy['match'] += 1\n",
    "    else:\n",
    "        accuracy['fail'] += 1\n",
    "print(accuracy)\n",
    "print(accuracy['match']/len(test_dataset))"
   ]
  },
  {
   "cell_type": "code",
   "execution_count": 154,
   "metadata": {
    "collapsed": false
   },
   "outputs": [],
   "source": [
    "### Read test_betaJ file\n",
    "file = open(url+'test_betaJ.txt').readlines()\n",
    "test_betaJ = []\n",
    "i = 0\n",
    "for line in file:\n",
    "    line = line.split()\n",
    "    for j in range(len(line)):\n",
    "        test_betaJ.append(float(line[j]))\n",
    "    i+=1"
   ]
  },
  {
   "cell_type": "code",
   "execution_count": 155,
   "metadata": {
    "collapsed": false
   },
   "outputs": [
    {
     "name": "stdout",
     "output_type": "stream",
     "text": [
      "10000\n"
     ]
    },
    {
     "data": {
      "image/png": "[encoded data removed]",
      "text/plain": [
       "<Figure size 432x288 with 1 Axes>"
      ]
     },
     "metadata": {},
     "output_type": "display_data"
    }
   ],
   "source": [
    "### average out the predicted M value for given betaJ\n",
    "import matplotlib.pyplot as plt\n",
    "import statistics\n",
    "mapping = {}\n",
    "print(len(test_betaJ))\n",
    "for betaJ,predict in zip(list(test_betaJ),list(predict_z)):\n",
    "    if betaJ not in mapping:\n",
    "        mapping[betaJ] = [float(predict)]\n",
    "    mapping[betaJ].append(float(predict))\n",
    "avg = []\n",
    "for betaJ in mapping.keys():\n",
    "    avg.append(statistics.mean(mapping[betaJ]))\n",
    "plt.scatter(mapping.keys(),avg) \n",
    "plt.show()"
   ]
  },
  {
   "cell_type": "code",
   "execution_count": null,
   "metadata": {
    "collapsed": true
   },
   "outputs": [],
   "source": []
  }
 ],
 "metadata": {
  "kernelspec": {
   "display_name": "Python 3",
   "language": "python",
   "name": "python3"
  },
  "language_info": {
   "codemirror_mode": {
    "name": "ipython",
    "version": 3
   },
   "file_extension": ".py",
   "mimetype": "text/x-python",
   "name": "python",
   "nbconvert_exporter": "python",
   "pygments_lexer": "ipython3",
   "version": "3.6.0"
  }
 },
 "nbformat": 4,
 "nbformat_minor": 2
}
